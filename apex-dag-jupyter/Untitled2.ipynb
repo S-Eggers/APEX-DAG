{
 "cells": [
  {
   "cell_type": "code",
   "execution_count": 4,
   "id": "ae762951-b823-4ab2-9755-ecf1900bc171",
   "metadata": {},
   "outputs": [],
   "source": [
    "a = 2"
   ]
  },
  {
   "cell_type": "code",
   "execution_count": 5,
   "id": "4d605c8e-5d10-4bc2-8a89-7ca9d74db142",
   "metadata": {},
   "outputs": [],
   "source": [
    "b = 3\n",
    "if a==b:\n",
    "    c = 5"
   ]
  },
  {
   "cell_type": "code",
   "execution_count": null,
   "id": "7d516152-d2ad-4f60-845e-44ea837048f6",
   "metadata": {},
   "outputs": [],
   "source": [
    "d = 4"
   ]
  }
 ],
 "metadata": {
  "kernelspec": {
   "display_name": "Python 3 (ipykernel)",
   "language": "python",
   "name": "python3"
  },
  "language_info": {
   "codemirror_mode": {
    "name": "ipython",
    "version": 3
   },
   "file_extension": ".py",
   "mimetype": "text/x-python",
   "name": "python",
   "nbconvert_exporter": "python",
   "pygments_lexer": "ipython3",
   "version": "3.13.2"
  }
 },
 "nbformat": 4,
 "nbformat_minor": 5
}
